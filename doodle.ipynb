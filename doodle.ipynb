{
 "cells": [
  {
   "cell_type": "code",
   "execution_count": 2,
   "source": [
    "from TAFKAP import TAFKAP_decode\r\n",
    "import time\r\n",
    "# TAFKAP_decode(None, {'randseed': 455, 'stim_type':'circular', 'prev_C':True})\r\n",
    "# TAFKAP_decode(None, {'randseed': 455, 'stim_type':'categorical', 'prev_C':True})\r\n",
    "t1 = time.perf_counter()\r\n",
    "est, unc, liks, hypers = TAFKAP_decode(None, {'randseed': 1234, 'stim_type':'circular', 'prev_C':False})\r\n",
    "t2 = time.perf_counter()\r\n",
    "print(t2-t1)\r\n",
    "\r\n",
    "#159 seconds with gpu acc\r\n",
    "#326 seconds on cpu\r\n"
   ],
   "outputs": [
    {
     "output_type": "stream",
     "name": "stdout",
     "text": [
      "--SIMULATING DATA--\n",
      "--PERFORMING HYPERPARAMETER SEARCH--\n",
      "--GRID SEARCH--\n",
      "00/56 -- lambda_var: 0.00, lambda: 0.02, loss: 302.421\n",
      "01/56 -- lambda_var: 0.00, lambda: 0.18, loss: 23.1965\n",
      "02/56 -- lambda_var: 0.00, lambda: 0.35, loss: 9.91214\n",
      "03/56 -- lambda_var: 0.00, lambda: 0.51, loss: 6.03038\n",
      "04/56 -- lambda_var: 0.00, lambda: 0.67, loss: 4.46115\n",
      "05/56 -- lambda_var: 0.00, lambda: 0.84, loss: 3.79567\n",
      "06/56 -- lambda_var: 0.00, lambda: 1.00, loss: 3.83516\n",
      "07/56 -- lambda_var: 0.14, lambda: 0.02, loss: 301.315\n"
     ]
    },
    {
     "output_type": "error",
     "ename": "KeyboardInterrupt",
     "evalue": "",
     "traceback": [
      "\u001b[1;31m---------------------------------------------------------------------------\u001b[0m",
      "\u001b[1;31mKeyboardInterrupt\u001b[0m                         Traceback (most recent call last)",
      "\u001b[1;32m<ipython-input-2-0d8535ab044b>\u001b[0m in \u001b[0;36m<module>\u001b[1;34m\u001b[0m\n\u001b[0;32m      4\u001b[0m \u001b[1;31m# TAFKAP_decode(None, {'randseed': 455, 'stim_type':'categorical', 'prev_C':True})\u001b[0m\u001b[1;33m\u001b[0m\u001b[1;33m\u001b[0m\u001b[1;33m\u001b[0m\u001b[0m\n\u001b[0;32m      5\u001b[0m \u001b[0mt1\u001b[0m \u001b[1;33m=\u001b[0m \u001b[0mtime\u001b[0m\u001b[1;33m.\u001b[0m\u001b[0mperf_counter\u001b[0m\u001b[1;33m(\u001b[0m\u001b[1;33m)\u001b[0m\u001b[1;33m\u001b[0m\u001b[1;33m\u001b[0m\u001b[0m\n\u001b[1;32m----> 6\u001b[1;33m \u001b[0mest\u001b[0m\u001b[1;33m,\u001b[0m \u001b[0munc\u001b[0m\u001b[1;33m,\u001b[0m \u001b[0mliks\u001b[0m\u001b[1;33m,\u001b[0m \u001b[0mhypers\u001b[0m \u001b[1;33m=\u001b[0m \u001b[0mTAFKAP_decode\u001b[0m\u001b[1;33m(\u001b[0m\u001b[1;32mNone\u001b[0m\u001b[1;33m,\u001b[0m \u001b[1;33m{\u001b[0m\u001b[1;34m'randseed'\u001b[0m\u001b[1;33m:\u001b[0m \u001b[1;36m1234\u001b[0m\u001b[1;33m,\u001b[0m \u001b[1;34m'stim_type'\u001b[0m\u001b[1;33m:\u001b[0m\u001b[1;34m'circular'\u001b[0m\u001b[1;33m,\u001b[0m \u001b[1;34m'prev_C'\u001b[0m\u001b[1;33m:\u001b[0m\u001b[1;32mFalse\u001b[0m\u001b[1;33m}\u001b[0m\u001b[1;33m)\u001b[0m\u001b[1;33m\u001b[0m\u001b[1;33m\u001b[0m\u001b[0m\n\u001b[0m\u001b[0;32m      7\u001b[0m \u001b[0mt2\u001b[0m \u001b[1;33m=\u001b[0m \u001b[0mtime\u001b[0m\u001b[1;33m.\u001b[0m\u001b[0mperf_counter\u001b[0m\u001b[1;33m(\u001b[0m\u001b[1;33m)\u001b[0m\u001b[1;33m\u001b[0m\u001b[1;33m\u001b[0m\u001b[0m\n\u001b[0;32m      8\u001b[0m \u001b[0mprint\u001b[0m\u001b[1;33m(\u001b[0m\u001b[0mt2\u001b[0m\u001b[1;33m-\u001b[0m\u001b[0mt1\u001b[0m\u001b[1;33m)\u001b[0m\u001b[1;33m\u001b[0m\u001b[1;33m\u001b[0m\u001b[0m\n",
      "\u001b[1;32mc:\\Users\\ruben\\Dropbox\\TAFKAP\\TAFKAP\\TAFKAP.py\u001b[0m in \u001b[0;36mTAFKAP_decode\u001b[1;34m(***failed resolving arguments***)\u001b[0m\n\u001b[0;32m    371\u001b[0m         \u001b[0mlr\u001b[0m \u001b[1;33m=\u001b[0m \u001b[0mtorch\u001b[0m\u001b[1;33m.\u001b[0m\u001b[0mlinspace\u001b[0m\u001b[1;33m(\u001b[0m\u001b[1;36m0\u001b[0m\u001b[1;33m,\u001b[0m\u001b[1;36m1\u001b[0m\u001b[1;33m,\u001b[0m\u001b[1;36m50\u001b[0m\u001b[1;33m)\u001b[0m\u001b[1;33m\u001b[0m\u001b[1;33m\u001b[0m\u001b[0m\n\u001b[0;32m    372\u001b[0m         \u001b[0mlr\u001b[0m \u001b[1;33m=\u001b[0m \u001b[0mlr\u001b[0m\u001b[1;33m[\u001b[0m\u001b[1;36m1\u001b[0m\u001b[1;33m:\u001b[0m\u001b[1;33m]\u001b[0m\u001b[1;33m\u001b[0m\u001b[1;33m\u001b[0m\u001b[0m\n\u001b[1;32m--> 373\u001b[1;33m         \u001b[0mhypers\u001b[0m \u001b[1;33m=\u001b[0m \u001b[0mfind_lambda\u001b[0m\u001b[1;33m(\u001b[0m\u001b[0mp\u001b[0m\u001b[1;33m[\u001b[0m\u001b[1;34m'runNs'\u001b[0m\u001b[1;33m]\u001b[0m\u001b[1;33m[\u001b[0m\u001b[0mp\u001b[0m\u001b[1;33m[\u001b[0m\u001b[1;34m'train_trials'\u001b[0m\u001b[1;33m]\u001b[0m\u001b[1;33m]\u001b[0m\u001b[1;33m,\u001b[0m \u001b[1;33m(\u001b[0m\u001b[0mlvr\u001b[0m\u001b[1;33m,\u001b[0m \u001b[0mlr\u001b[0m\u001b[1;33m)\u001b[0m\u001b[1;33m)\u001b[0m\u001b[1;33m\u001b[0m\u001b[1;33m\u001b[0m\u001b[0m\n\u001b[0m\u001b[0;32m    374\u001b[0m     \u001b[1;32melif\u001b[0m \u001b[0mp\u001b[0m\u001b[1;33m[\u001b[0m\u001b[1;34m'dec_type'\u001b[0m\u001b[1;33m]\u001b[0m\u001b[1;33m==\u001b[0m\u001b[1;34m'PRINCE'\u001b[0m\u001b[1;33m:\u001b[0m\u001b[1;33m\u001b[0m\u001b[1;33m\u001b[0m\u001b[0m\n\u001b[0;32m    375\u001b[0m         \u001b[1;31m# No hyperparameter search necessary for PRINCE\u001b[0m\u001b[1;33m\u001b[0m\u001b[1;33m\u001b[0m\u001b[1;33m\u001b[0m\u001b[0m\n",
      "\u001b[1;32mc:\\Users\\ruben\\Dropbox\\TAFKAP\\TAFKAP\\TAFKAP.py\u001b[0m in \u001b[0;36mfind_lambda\u001b[1;34m(cvInd, lambda_range)\u001b[0m\n\u001b[0;32m    198\u001b[0m         \u001b[1;32mfor\u001b[0m \u001b[0mgrid_iter\u001b[0m \u001b[1;32min\u001b[0m \u001b[0mrange\u001b[0m\u001b[1;33m(\u001b[0m\u001b[0mgrid_x\u001b[0m\u001b[1;33m.\u001b[0m\u001b[0mnumel\u001b[0m\u001b[1;33m(\u001b[0m\u001b[1;33m)\u001b[0m\u001b[1;33m)\u001b[0m\u001b[1;33m:\u001b[0m\u001b[1;33m\u001b[0m\u001b[1;33m\u001b[0m\u001b[0m\n\u001b[0;32m    199\u001b[0m             \u001b[0mthis_lambda\u001b[0m \u001b[1;33m=\u001b[0m \u001b[0mtorch\u001b[0m\u001b[1;33m.\u001b[0m\u001b[0mTensor\u001b[0m\u001b[1;33m(\u001b[0m\u001b[1;33m(\u001b[0m\u001b[0mlambda_range\u001b[0m\u001b[1;33m[\u001b[0m\u001b[1;36m0\u001b[0m\u001b[1;33m]\u001b[0m\u001b[1;33m[\u001b[0m\u001b[0mgrid_x\u001b[0m\u001b[1;33m.\u001b[0m\u001b[0mflatten\u001b[0m\u001b[1;33m(\u001b[0m\u001b[1;33m)\u001b[0m\u001b[1;33m[\u001b[0m\u001b[0mgrid_iter\u001b[0m\u001b[1;33m]\u001b[0m\u001b[1;33m]\u001b[0m\u001b[1;33m,\u001b[0m \u001b[0mlambda_range\u001b[0m\u001b[1;33m[\u001b[0m\u001b[1;36m1\u001b[0m\u001b[1;33m]\u001b[0m\u001b[1;33m[\u001b[0m\u001b[0mgrid_y\u001b[0m\u001b[1;33m.\u001b[0m\u001b[0mflatten\u001b[0m\u001b[1;33m(\u001b[0m\u001b[1;33m)\u001b[0m\u001b[1;33m[\u001b[0m\u001b[0mgrid_iter\u001b[0m\u001b[1;33m]\u001b[0m\u001b[1;33m]\u001b[0m\u001b[1;33m)\u001b[0m\u001b[1;33m)\u001b[0m\u001b[1;33m\u001b[0m\u001b[1;33m\u001b[0m\u001b[0m\n\u001b[1;32m--> 200\u001b[1;33m             \u001b[0mlosses\u001b[0m\u001b[1;33m[\u001b[0m\u001b[0mgrid_iter\u001b[0m\u001b[1;33m]\u001b[0m \u001b[1;33m=\u001b[0m \u001b[0mvisit\u001b[0m\u001b[1;33m(\u001b[0m\u001b[0mthis_lambda\u001b[0m\u001b[1;33m)\u001b[0m\u001b[1;33m\u001b[0m\u001b[1;33m\u001b[0m\u001b[0m\n\u001b[0m\u001b[0;32m    201\u001b[0m             \u001b[0mprint\u001b[0m\u001b[1;33m(\u001b[0m\u001b[1;34m\"{:02d}/{:02d} -- lambda_var: {:3.2f}, lambda: {:3.2f}, loss: {:g}\"\u001b[0m\u001b[1;33m.\u001b[0m\u001b[0mformat\u001b[0m\u001b[1;33m(\u001b[0m\u001b[0mgrid_iter\u001b[0m\u001b[1;33m,\u001b[0m \u001b[0mgrid_x\u001b[0m\u001b[1;33m.\u001b[0m\u001b[0mnumel\u001b[0m\u001b[1;33m(\u001b[0m\u001b[1;33m)\u001b[0m\u001b[1;33m,\u001b[0m \u001b[1;33m*\u001b[0m\u001b[0mthis_lambda\u001b[0m\u001b[1;33m,\u001b[0m \u001b[0mlosses\u001b[0m\u001b[1;33m[\u001b[0m\u001b[0mgrid_iter\u001b[0m\u001b[1;33m]\u001b[0m\u001b[1;33m.\u001b[0m\u001b[0mitem\u001b[0m\u001b[1;33m(\u001b[0m\u001b[1;33m)\u001b[0m\u001b[1;33m)\u001b[0m\u001b[1;33m)\u001b[0m\u001b[1;33m\u001b[0m\u001b[1;33m\u001b[0m\u001b[0m\n\u001b[0;32m    202\u001b[0m \u001b[1;33m\u001b[0m\u001b[0m\n",
      "\u001b[1;32mc:\\Users\\ruben\\Dropbox\\TAFKAP\\TAFKAP\\TAFKAP.py\u001b[0m in \u001b[0;36mvisit\u001b[1;34m(intern_lamb)\u001b[0m\n\u001b[0;32m    160\u001b[0m             \u001b[0mloss\u001b[0m \u001b[1;33m=\u001b[0m \u001b[1;36m0\u001b[0m\u001b[1;33m\u001b[0m\u001b[1;33m\u001b[0m\u001b[0m\n\u001b[0;32m    161\u001b[0m             \u001b[1;32mfor\u001b[0m \u001b[0mcv_iter2\u001b[0m \u001b[1;32min\u001b[0m \u001b[0mrange\u001b[0m\u001b[1;33m(\u001b[0m\u001b[0mK\u001b[0m\u001b[1;33m)\u001b[0m\u001b[1;33m:\u001b[0m\u001b[1;33m\u001b[0m\u001b[1;33m\u001b[0m\u001b[0m\n\u001b[1;32m--> 162\u001b[1;33m                 \u001b[0mestC\u001b[0m \u001b[1;33m=\u001b[0m \u001b[0mestimate_cov\u001b[0m\u001b[1;33m(\u001b[0m\u001b[0mest_noise_cv\u001b[0m\u001b[1;33m[\u001b[0m\u001b[0mcv_iter2\u001b[0m\u001b[1;33m]\u001b[0m\u001b[1;33m,\u001b[0m \u001b[0mintern_lamb\u001b[0m\u001b[1;33m[\u001b[0m\u001b[1;36m0\u001b[0m\u001b[1;33m]\u001b[0m\u001b[1;33m,\u001b[0m \u001b[0mintern_lamb\u001b[0m\u001b[1;33m[\u001b[0m\u001b[1;36m1\u001b[0m\u001b[1;33m]\u001b[0m\u001b[1;33m,\u001b[0m \u001b[0mW_cv\u001b[0m\u001b[1;33m[\u001b[0m\u001b[0mcv_iter2\u001b[0m\u001b[1;33m]\u001b[0m\u001b[1;33m)\u001b[0m\u001b[1;33m\u001b[0m\u001b[1;33m\u001b[0m\u001b[0m\n\u001b[0m\u001b[0;32m    163\u001b[0m                 \u001b[0mvncv\u001b[0m \u001b[1;33m=\u001b[0m \u001b[0mval_noise_cv\u001b[0m\u001b[1;33m[\u001b[0m\u001b[0mcv_iter2\u001b[0m\u001b[1;33m]\u001b[0m\u001b[1;33m\u001b[0m\u001b[1;33m\u001b[0m\u001b[0m\n\u001b[0;32m    164\u001b[0m                 \u001b[0mvalC\u001b[0m \u001b[1;33m=\u001b[0m \u001b[0mtorch\u001b[0m\u001b[1;33m.\u001b[0m\u001b[0mmm\u001b[0m\u001b[1;33m(\u001b[0m\u001b[0mvncv\u001b[0m\u001b[1;33m.\u001b[0m\u001b[0mt\u001b[0m\u001b[1;33m(\u001b[0m\u001b[1;33m)\u001b[0m\u001b[1;33m,\u001b[0m \u001b[0mvncv\u001b[0m\u001b[1;33m)\u001b[0m\u001b[1;33m/\u001b[0m\u001b[0mvncv\u001b[0m\u001b[1;33m.\u001b[0m\u001b[0mshape\u001b[0m\u001b[1;33m[\u001b[0m\u001b[1;36m0\u001b[0m\u001b[1;33m]\u001b[0m \u001b[1;31m#sample covariance of validation data\u001b[0m\u001b[1;33m\u001b[0m\u001b[1;33m\u001b[0m\u001b[0m\n",
      "\u001b[1;32mc:\\Users\\ruben\\Dropbox\\TAFKAP\\TAFKAP\\TAFKAP.py\u001b[0m in \u001b[0;36mestimate_cov\u001b[1;34m(X, lambda_var, lamb, W)\u001b[0m\n\u001b[0;32m    136\u001b[0m         \u001b[0mtarget\u001b[0m\u001b[1;33m[\u001b[0m\u001b[0mtorch\u001b[0m\u001b[1;33m.\u001b[0m\u001b[0meye\u001b[0m\u001b[1;33m(\u001b[0m\u001b[0mpp\u001b[0m\u001b[1;33m)\u001b[0m\u001b[1;33m==\u001b[0m\u001b[1;36m1\u001b[0m\u001b[1;33m]\u001b[0m\u001b[1;33m=\u001b[0m\u001b[0mtarget_diag\u001b[0m\u001b[1;33m\u001b[0m\u001b[1;33m\u001b[0m\u001b[0m\n\u001b[0;32m    137\u001b[0m \u001b[1;33m\u001b[0m\u001b[0m\n\u001b[1;32m--> 138\u001b[1;33m         \u001b[0mC\u001b[0m \u001b[1;33m=\u001b[0m \u001b[1;33m(\u001b[0m\u001b[1;36m1\u001b[0m\u001b[1;33m-\u001b[0m\u001b[0mlamb\u001b[0m\u001b[1;33m)\u001b[0m\u001b[1;33m*\u001b[0m\u001b[0msamp_cov\u001b[0m \u001b[1;33m+\u001b[0m \u001b[0mlamb\u001b[0m\u001b[1;33m*\u001b[0m\u001b[0mtarget\u001b[0m\u001b[1;33m\u001b[0m\u001b[1;33m\u001b[0m\u001b[0m\n\u001b[0m\u001b[0;32m    139\u001b[0m         \u001b[1;32mtry\u001b[0m\u001b[1;33m:\u001b[0m\u001b[1;33m\u001b[0m\u001b[1;33m\u001b[0m\u001b[0m\n\u001b[0;32m    140\u001b[0m             \u001b[0mtorch\u001b[0m\u001b[1;33m.\u001b[0m\u001b[0mlinalg\u001b[0m\u001b[1;33m.\u001b[0m\u001b[0mcholesky\u001b[0m\u001b[1;33m(\u001b[0m\u001b[0mC\u001b[0m\u001b[1;33m)\u001b[0m \u001b[1;31m#Cholesky decomp seems to be faster than eigendecomp, so assuming we mostly don't fail this test, it's faster this way\u001b[0m\u001b[1;33m\u001b[0m\u001b[1;33m\u001b[0m\u001b[0m\n",
      "\u001b[1;31mKeyboardInterrupt\u001b[0m: "
     ]
    }
   ],
   "metadata": {}
  },
  {
   "cell_type": "code",
   "execution_count": 6,
   "source": [
    "import numpy as np\r\n",
    "a = np.ones((10,2))\r\n",
    "print(a)\r\n",
    "print(type(a))\r\n",
    "if type(a) is np.ndarray:\r\n",
    "    print('foo')"
   ],
   "outputs": [
    {
     "output_type": "stream",
     "name": "stdout",
     "text": [
      "[[1. 1.]\n",
      " [1. 1.]\n",
      " [1. 1.]\n",
      " [1. 1.]\n",
      " [1. 1.]\n",
      " [1. 1.]\n",
      " [1. 1.]\n",
      " [1. 1.]\n",
      " [1. 1.]\n",
      " [1. 1.]]\n",
      "<class 'numpy.ndarray'>\n",
      "foo\n"
     ]
    }
   ],
   "metadata": {}
  },
  {
   "cell_type": "code",
   "execution_count": 22,
   "source": [
    "from TAFKAP import invSNC\r\n",
    "from scipy.io import savemat\r\n",
    "torch.set_default_dtype(torch.float64)\r\n",
    "\r\n",
    "W, tau, sig, rho = torch.randn(100,8), torch.randn(100)*0.05+0.7, torch.tensor(0.3), torch.tensor(0.05)\r\n",
    "omi, ld = invSNC(W, tau, sig, rho, True)\r\n",
    "print(ld,omi)\r\n",
    "\r\n",
    "savemat('foo.mat', {'W':W.numpy(), 'tau':tau.numpy(), 'sig':sig.item(), 'rho':rho.item(), 'ld':ld.item(), 'omi':omi.numpy()})\r\n"
   ],
   "outputs": [
    {
     "output_type": "stream",
     "name": "stdout",
     "text": [
      "tensor(-51.5237) tensor([[ 2.1288, -0.0320,  0.0485,  ...,  0.0130,  0.0652, -0.0780],\n",
      "        [-0.0320,  1.5426, -0.0239,  ..., -0.0646, -0.0678, -0.0761],\n",
      "        [ 0.0485, -0.0239,  1.7385,  ..., -0.0494, -0.1275,  0.0564],\n",
      "        ...,\n",
      "        [ 0.0130, -0.0646, -0.0494,  ...,  1.7425, -0.0950, -0.0263],\n",
      "        [ 0.0652, -0.0678, -0.1275,  ..., -0.0950,  1.8430, -0.0022],\n",
      "        [-0.0780, -0.0761,  0.0564,  ..., -0.0263, -0.0022,  1.8975]])\n"
     ]
    }
   ],
   "metadata": {}
  },
  {
   "cell_type": "code",
   "execution_count": 20,
   "source": [
    "import torch\r\n",
    "print(torch.cuda.is_available())\r\n",
    "torch.manual_seed(1234)\r\n",
    "a = torch.randn(100, 1000,1000)\r\n",
    "a = torch.bmm(a,a.transpose(1,2)) + torch.eye(1000).unsqueeze(0)*0.1\r\n",
    "print(a.shape)\r\n",
    "\r\n",
    "%timeit a.inverse()\r\n",
    "a = a.cuda()\r\n",
    "%timeit torch.cholesky_inverse(torch.linalg.cholesky(a))\r\n"
   ],
   "outputs": [
    {
     "output_type": "stream",
     "name": "stdout",
     "text": [
      "True\n",
      "torch.Size([100, 1000, 1000])\n",
      "1.15 s ± 73.2 ms per loop (mean ± std. dev. of 7 runs, 1 loop each)\n",
      "785 ms ± 10.3 ms per loop (mean ± std. dev. of 7 runs, 1 loop each)\n"
     ]
    }
   ],
   "metadata": {}
  },
  {
   "cell_type": "code",
   "execution_count": 38,
   "source": [
    "import torch\r\n",
    "torch.set_default_tensor_type('torch.cuda.FloatTensor')\r\n",
    "a = torch.randn(10,3)\r\n",
    "b = torch.randn(3,8)\r\n",
    "\r\n",
    "c  = a @ b\r\n",
    "\r\n",
    "print(c.shape)\r\n",
    "print(a[(2,),:].shape)\r\n",
    "print(a.device)"
   ],
   "outputs": [
    {
     "output_type": "stream",
     "name": "stdout",
     "text": [
      "torch.Size([10, 8])\n",
      "torch.Size([1, 3])\n",
      "cuda:0\n"
     ]
    }
   ],
   "metadata": {}
  },
  {
   "cell_type": "code",
   "execution_count": 32,
   "source": [
    "print((99+1)%100)"
   ],
   "outputs": [
    {
     "output_type": "stream",
     "name": "stdout",
     "text": [
      "0\n"
     ]
    }
   ],
   "metadata": {}
  },
  {
   "cell_type": "code",
   "execution_count": 2,
   "source": [
    "%debug"
   ],
   "outputs": [
    {
     "output_type": "stream",
     "name": "stdout",
     "text": [
      "> \u001b[1;32mc:\\users\\ruben\\anaconda3\\lib\\site-packages\\torch\\_tensor.py\u001b[0m(561)\u001b[0;36m__format__\u001b[1;34m()\u001b[0m\n",
      "\u001b[1;32m    559 \u001b[1;33m        \u001b[1;32mif\u001b[0m \u001b[0mself\u001b[0m\u001b[1;33m.\u001b[0m\u001b[0mdim\u001b[0m\u001b[1;33m(\u001b[0m\u001b[1;33m)\u001b[0m \u001b[1;33m==\u001b[0m \u001b[1;36m0\u001b[0m\u001b[1;33m:\u001b[0m\u001b[1;33m\u001b[0m\u001b[1;33m\u001b[0m\u001b[0m\n",
      "\u001b[0m\u001b[1;32m    560 \u001b[1;33m            \u001b[1;32mreturn\u001b[0m \u001b[0mself\u001b[0m\u001b[1;33m.\u001b[0m\u001b[0mitem\u001b[0m\u001b[1;33m(\u001b[0m\u001b[1;33m)\u001b[0m\u001b[1;33m.\u001b[0m\u001b[0m__format__\u001b[0m\u001b[1;33m(\u001b[0m\u001b[0mformat_spec\u001b[0m\u001b[1;33m)\u001b[0m\u001b[1;33m\u001b[0m\u001b[1;33m\u001b[0m\u001b[0m\n",
      "\u001b[0m\u001b[1;32m--> 561 \u001b[1;33m        \u001b[1;32mreturn\u001b[0m \u001b[0mobject\u001b[0m\u001b[1;33m.\u001b[0m\u001b[0m__format__\u001b[0m\u001b[1;33m(\u001b[0m\u001b[0mself\u001b[0m\u001b[1;33m,\u001b[0m \u001b[0mformat_spec\u001b[0m\u001b[1;33m)\u001b[0m\u001b[1;33m\u001b[0m\u001b[1;33m\u001b[0m\u001b[0m\n",
      "\u001b[0m\u001b[1;32m    562 \u001b[1;33m\u001b[1;33m\u001b[0m\u001b[0m\n",
      "\u001b[0m\u001b[1;32m    563 \u001b[1;33m    \u001b[1;32mdef\u001b[0m \u001b[0m__ipow__\u001b[0m\u001b[1;33m(\u001b[0m\u001b[0mself\u001b[0m\u001b[1;33m,\u001b[0m \u001b[0mother\u001b[0m\u001b[1;33m)\u001b[0m\u001b[1;33m:\u001b[0m  \u001b[1;31m# type: ignore[misc]\u001b[0m\u001b[1;33m\u001b[0m\u001b[1;33m\u001b[0m\u001b[0m\n",
      "\u001b[0m\n",
      "> \u001b[1;32mc:\\users\\ruben\\dropbox\\tafkap\\tafkap\\tafkap.py\u001b[0m(160)\u001b[0;36mfind_lambda\u001b[1;34m()\u001b[0m\n",
      "\u001b[1;32m    158 \u001b[1;33m\u001b[1;33m\u001b[0m\u001b[0m\n",
      "\u001b[0m\u001b[1;32m    159 \u001b[1;33m            \u001b[0mbest_lambda\u001b[0m \u001b[1;33m=\u001b[0m \u001b[0mtorch\u001b[0m\u001b[1;33m.\u001b[0m\u001b[0mTensor\u001b[0m\u001b[1;33m(\u001b[0m\u001b[1;33m(\u001b[0m\u001b[0mgrid_l1\u001b[0m\u001b[1;33m[\u001b[0m\u001b[0mbest_idx\u001b[0m\u001b[1;33m]\u001b[0m\u001b[1;33m,\u001b[0m \u001b[0mgrid_l2\u001b[0m\u001b[1;33m[\u001b[0m\u001b[0mbest_idx\u001b[0m\u001b[1;33m]\u001b[0m\u001b[1;33m)\u001b[0m\u001b[1;33m)\u001b[0m\u001b[1;33m\u001b[0m\u001b[1;33m\u001b[0m\u001b[0m\n",
      "\u001b[0m\u001b[1;32m--> 160 \u001b[1;33m            \u001b[0mprint\u001b[0m\u001b[1;33m(\u001b[0m\u001b[1;34m\"Best setting found: lambda_var = {:3.2f}, lambda = {:3.2f}, loss: {:g}\"\u001b[0m\u001b[1;33m.\u001b[0m\u001b[0mformat\u001b[0m\u001b[1;33m(\u001b[0m\u001b[1;33m*\u001b[0m\u001b[0mbest_lambda\u001b[0m\u001b[1;33m,\u001b[0m \u001b[0mbest_loss\u001b[0m\u001b[1;33m)\u001b[0m\u001b[1;33m)\u001b[0m\u001b[1;33m\u001b[0m\u001b[1;33m\u001b[0m\u001b[0m\n",
      "\u001b[0m\u001b[1;32m    161 \u001b[1;33m\u001b[1;33m\u001b[0m\u001b[0m\n",
      "\u001b[0m\u001b[1;32m    162 \u001b[1;33m\u001b[1;33m\u001b[0m\u001b[0m\n",
      "\u001b[0m\n",
      "tensor([0.6327, 0.7551])\n",
      "tensor([4.6850])\n",
      "Best setting found: lambda_var = 0.63, lambda = 0.76, loss: 4.68495\n"
     ]
    }
   ],
   "metadata": {}
  },
  {
   "cell_type": "code",
   "execution_count": null,
   "source": [
    "# from TAFKAP import sub2ind\r\n",
    "\r\n",
    "def sub2ind(sz, row, col):\r\n",
    "    n_rows = sz[0]    \r\n",
    "    return [n_rows * (c) + r for r, c in zip(row, col)]\r\n",
    "\r\n",
    "sub2ind((10,4), (8-1,), (2-1,))"
   ],
   "outputs": [],
   "metadata": {}
  },
  {
   "cell_type": "code",
   "execution_count": null,
   "source": [
    "import torch\r\n",
    "a = torch.randn(2)\r\n",
    "print('{:02d}: {:3.2f} and {:5.4g}'.format(a.numel(), *a))"
   ],
   "outputs": [],
   "metadata": {}
  },
  {
   "cell_type": "code",
   "execution_count": null,
   "source": [
    "print('{:}{:02d}, {:3.2f}'.format(3, 5.3234))"
   ],
   "outputs": [],
   "metadata": {}
  },
  {
   "cell_type": "code",
   "execution_count": null,
   "source": [
    "%debug\r\n"
   ],
   "outputs": [],
   "metadata": {}
  },
  {
   "cell_type": "code",
   "execution_count": null,
   "source": [
    "import torch\r\n",
    "C = torch.randn(1000,1000)\r\n",
    "C = torch.mm(C,C.t())\r\n",
    "a = torch.logdet(C)\r\n",
    "print(C.is_complex())\r\n"
   ],
   "outputs": [],
   "metadata": {}
  },
  {
   "cell_type": "code",
   "execution_count": null,
   "source": [
    "a = 5\r\n",
    "print(a.is_complex())"
   ],
   "outputs": [],
   "metadata": {}
  },
  {
   "cell_type": "code",
   "execution_count": null,
   "source": [
    "%debug"
   ],
   "outputs": [],
   "metadata": {}
  },
  {
   "cell_type": "code",
   "execution_count": 9,
   "source": [
    "import torch\r\n",
    "a = torch.randint(4, (5,))\r\n",
    "print(a)\r\n",
    "\r\n",
    "b,c = a.min(0)\r\n",
    "print(b,c)\r\n"
   ],
   "outputs": [
    {
     "output_type": "stream",
     "name": "stdout",
     "text": [
      "tensor([1, 3, 3, 3, 2])\n",
      "tensor(1) tensor(0)\n"
     ]
    }
   ],
   "metadata": {}
  },
  {
   "cell_type": "code",
   "execution_count": null,
   "source": [
    "pp = 8\r\n",
    "print((pp,)*2)"
   ],
   "outputs": [],
   "metadata": {}
  },
  {
   "cell_type": "code",
   "execution_count": null,
   "source": [
    "a,b,c = [],[],[]\r\n",
    "a.append(4)\r\n",
    "print(b)"
   ],
   "outputs": [],
   "metadata": {}
  },
  {
   "cell_type": "code",
   "execution_count": null,
   "source": [
    "%debug"
   ],
   "outputs": [],
   "metadata": {}
  },
  {
   "cell_type": "code",
   "execution_count": null,
   "source": [
    "import torch\r\n",
    "from numpy import pi\r\n",
    "a = torch.linspace(0, 2*pi, 10)\r\n",
    "print(a)\r\n",
    "b = (torch.rand(5)*(0*2*pi/10)).unsqueeze(1)\r\n",
    "print(b)\r\n",
    "c = a+b\r\n",
    "print(c)\r\n",
    "\r\n",
    "for j in range(5):\r\n",
    "    c[j][:] = c[j][torch.randperm(10)]\r\n",
    "\r\n",
    "print(c)\r\n",
    "print(c.sum(1))\r\n",
    "c =c.ravel()\r\n",
    "print(c)\r\n",
    "print(c.T)\r\n",
    "print(c.shape[0])"
   ],
   "outputs": [],
   "metadata": {}
  },
  {
   "cell_type": "code",
   "execution_count": null,
   "source": [
    "from TAFKAP import fun_basis\r\n",
    "import torch\r\n",
    "from matplotlib import pyplot as plt\r\n",
    "from numpy import pi\r\n",
    "\r\n",
    "x = torch.randint(0, 4, (100,1))\r\n",
    "y = fun_basis(x, None, None, torch.arange(4))\r\n",
    "print(y.shape)\r\n",
    "print(y)\r\n",
    "plt.plot(x,y)\r\n"
   ],
   "outputs": [],
   "metadata": {}
  },
  {
   "cell_type": "code",
   "execution_count": null,
   "source": [
    "from TAFKAP import makeSNCData\r\n",
    "makeSNCData({'sim_stim_type':'categorical'})"
   ],
   "outputs": [],
   "metadata": {}
  },
  {
   "cell_type": "code",
   "execution_count": null,
   "source": [
    "import torch\r\n",
    "a = torch.randint(10,(10,))\r\n",
    "print(a)\r\n",
    "print((a==a.int()).all())\r\n"
   ],
   "outputs": [],
   "metadata": {}
  },
  {
   "cell_type": "code",
   "execution_count": null,
   "source": [
    "%debug\r\n"
   ],
   "outputs": [],
   "metadata": {}
  },
  {
   "cell_type": "code",
   "execution_count": null,
   "source": [
    "import torch\r\n",
    "a = torch.randn(10)\r\n",
    "b = a>0\r\n",
    "print(b)\r\n",
    "print(b.logical_not())"
   ],
   "outputs": [],
   "metadata": {}
  },
  {
   "cell_type": "code",
   "execution_count": null,
   "source": [
    "%debug"
   ],
   "outputs": [],
   "metadata": {}
  },
  {
   "cell_type": "code",
   "execution_count": null,
   "source": [
    "from TAFKAP import makeSNCData"
   ],
   "outputs": [],
   "metadata": {}
  },
  {
   "cell_type": "code",
   "execution_count": null,
   "source": [
    "import numpy as np\r\n",
    "tmp = np.tile(np.arange(5),(5,1))\r\n",
    "print(tmp[1])"
   ],
   "outputs": [],
   "metadata": {}
  },
  {
   "cell_type": "code",
   "execution_count": null,
   "source": [
    "import numpy as np\r\n",
    "a = np.arange(10)\r\n",
    "print(a)\r\n",
    "tmp = (a*np.expand_dims(a,1))\r\n",
    "print(tmp)\r\n",
    "print(tmp.shape)"
   ],
   "outputs": [],
   "metadata": {}
  },
  {
   "cell_type": "code",
   "execution_count": null,
   "source": [
    "%debug"
   ],
   "outputs": [],
   "metadata": {}
  },
  {
   "cell_type": "code",
   "execution_count": null,
   "source": [
    "import numpy as np\r\n",
    "a = np.linspace(0,1,7)\r\n",
    "b = np.arange(0,10)\r\n",
    "np.random.seed(1234)\r\n",
    "print(a)\r\n",
    "c = np.expand_dims(a,1)+b\r\n",
    "print(c)\r\n",
    "print('foo')\r\n",
    "print(c.shape)\r\n",
    "np.random.shuffle(c.T)\r\n",
    "print(c)\r\n",
    "print(c.ravel())"
   ],
   "outputs": [],
   "metadata": {}
  }
 ],
 "metadata": {
  "orig_nbformat": 4,
  "language_info": {
   "name": "python",
   "version": "3.8.8",
   "mimetype": "text/x-python",
   "codemirror_mode": {
    "name": "ipython",
    "version": 3
   },
   "pygments_lexer": "ipython3",
   "nbconvert_exporter": "python",
   "file_extension": ".py"
  },
  "kernelspec": {
   "name": "python3",
   "display_name": "Python 3.8.8 64-bit ('base': conda)"
  },
  "interpreter": {
   "hash": "07aba128876efbcba2af71ac9a85fdd1f0cc5cb1c09d548ebd1b815cae2c648d"
  }
 },
 "nbformat": 4,
 "nbformat_minor": 2
}